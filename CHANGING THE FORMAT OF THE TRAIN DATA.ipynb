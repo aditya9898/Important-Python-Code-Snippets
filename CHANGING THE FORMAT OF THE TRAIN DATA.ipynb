{
 "cells": [
  {
   "cell_type": "markdown",
   "metadata": {},
   "source": [
    "# This notebook contains the code to use some very useful file handling functions in python.\n",
    "## So as to use ImageDataGenerators to train models in keras, the image dataset must be of a particular fomat.\n",
    "## There must be a folder which contains folders correcponding to each class of the training data.\n",
    "## Inside each of those 'class' folders, there must be all the images corresponding to that particular class."
   ]
  },
  {
   "cell_type": "code",
   "execution_count": 17,
   "metadata": {},
   "outputs": [],
   "source": [
    "import os\n",
    "import pandas as pd\n",
    "import numpy as np\n",
    "import shutil"
   ]
  },
  {
   "cell_type": "code",
   "execution_count": 18,
   "metadata": {},
   "outputs": [
    {
     "name": "stdout",
     "output_type": "stream",
     "text": [
      "(10222, 2)\n"
     ]
    }
   ],
   "source": [
    "labels=pd.read_csv('./Desktop/dog breed/labels.csv')\n",
    "labels=labels.as_matrix()\n",
    "print(labels.shape)"
   ]
  },
  {
   "cell_type": "markdown",
   "metadata": {},
   "source": [
    "### CURRENTLY ALL THE IMAGES ARE PRESENT IN THE SAME FOLDER. EACH IMAGE IS STORED AS SOME CODE.JPG. THERE IS A CSV FILE NAMED LABELS WHICH CONTAINS THE IMAGE CODE AND THE CORRESPONDING CLASS NAME. \n",
    "### OUR TASK IS TO CONVERT THE TRAIN DATA FROM THE PRESENT FORMAT TO THE MORE USEFUL FORMAT MENTIONED ABOVE"
   ]
  },
  {
   "cell_type": "code",
   "execution_count": 19,
   "metadata": {},
   "outputs": [
    {
     "name": "stderr",
     "output_type": "stream",
     "text": [
      "C:\\Users\\aditya\\AppData\\Local\\Continuum\\anaconda3\\envs\\tensorflow\\lib\\site-packages\\ipykernel_launcher.py:4: DeprecationWarning: The Windows bytes API has been deprecated, use Unicode filenames instead\n",
      "  after removing the cwd from sys.path.\n"
     ]
    }
   ],
   "source": [
    "folder_path='./Desktop/dog breed/train/'\n",
    "main_new_path='./Desktop/new train/'\n",
    "directory=os.fsencode(folder_path) #STRINGS CAN NOT BE PASSED TO OS. FUNCTIONS, HENCE THEY ARE CONVERTED TO DIRECTORY NAMES\n",
    "for file in os.listdir(directory):  #FOR TAKING EACH FILE FROM THE GIVEN TRAIN FOLDER\n",
    "    file_name=os.fsdecode(file)\n",
    "    code=file_name[0:-4]\n",
    "    index_of_breed=np.where(labels[:,0]==code) #TO FIND THE INDEX OF THE PARTICULAR CODE IN THE GIVEN LIST\n",
    "    name_of_breed=labels[index_of_breed,1]\n",
    "    new_path=str(main_new_path+name_of_breed[0][0])\n",
    "    new_path_d=os.fsencode(new_path)\n",
    "    if not os.path.exists(new_path_d): #CHECK IF THE PATH EXISTS\n",
    "        os.makedirs(new_path_d) #IF NOT, CREATE FOLDER FOR THAT CLASS\n",
    "    olddir=os.fsencode(str(folder_path+file_name))\n",
    "    newdir=os.fsencode(str(new_path))\n",
    "    shutil.copy(olddir,newdir) #FUNCTION TO COPY IMAGE FROM TRAIN FOLDER TO NEW TRAIN_DATA FOLDER "
   ]
  },
  {
   "cell_type": "code",
   "execution_count": 20,
   "metadata": {},
   "outputs": [
    {
     "name": "stdout",
     "output_type": "stream",
     "text": [
      "affenpinscher\n",
      "afghan_hound\n",
      "african_hunting_dog\n",
      "airedale\n",
      "american_staffordshire_terrier\n",
      "appenzeller\n",
      "australian_terrier\n",
      "basenji\n",
      "basset\n",
      "beagle\n",
      "bedlington_terrier\n",
      "bernese_mountain_dog\n",
      "black-and-tan_coonhound\n",
      "blenheim_spaniel\n",
      "bloodhound\n",
      "bluetick\n",
      "border_collie\n",
      "border_terrier\n",
      "borzoi\n",
      "boston_bull\n",
      "bouvier_des_flandres\n",
      "boxer\n",
      "brabancon_griffon\n",
      "briard\n",
      "brittany_spaniel\n",
      "bull_mastiff\n",
      "cairn\n",
      "cardigan\n",
      "chesapeake_bay_retriever\n",
      "chihuahua\n",
      "chow\n",
      "clumber\n",
      "cocker_spaniel\n",
      "collie\n",
      "curly-coated_retriever\n",
      "dandie_dinmont\n",
      "dhole\n",
      "dingo\n",
      "doberman\n",
      "english_foxhound\n",
      "english_setter\n",
      "english_springer\n",
      "entlebucher\n",
      "eskimo_dog\n",
      "flat-coated_retriever\n",
      "french_bulldog\n",
      "german_shepherd\n",
      "german_short-haired_pointer\n",
      "giant_schnauzer\n",
      "golden_retriever\n",
      "gordon_setter\n",
      "greater_swiss_mountain_dog\n",
      "great_dane\n",
      "great_pyrenees\n",
      "groenendael\n",
      "ibizan_hound\n",
      "irish_setter\n",
      "irish_terrier\n",
      "irish_water_spaniel\n",
      "irish_wolfhound\n",
      "italian_greyhound\n",
      "japanese_spaniel\n",
      "keeshond\n",
      "kelpie\n",
      "kerry_blue_terrier\n",
      "komondor\n",
      "kuvasz\n",
      "labrador_retriever\n",
      "lakeland_terrier\n",
      "leonberg\n",
      "lhasa\n",
      "malamute\n",
      "malinois\n",
      "maltese_dog\n",
      "mexican_hairless\n",
      "miniature_pinscher\n",
      "miniature_poodle\n",
      "miniature_schnauzer\n",
      "newfoundland\n",
      "norfolk_terrier\n",
      "norwegian_elkhound\n",
      "norwich_terrier\n",
      "old_english_sheepdog\n",
      "otterhound\n",
      "papillon\n",
      "pekinese\n",
      "pembroke\n",
      "pomeranian\n",
      "pug\n",
      "redbone\n",
      "rhodesian_ridgeback\n",
      "rottweiler\n",
      "saint_bernard\n",
      "saluki\n",
      "samoyed\n",
      "schipperke\n",
      "scotch_terrier\n",
      "scottish_deerhound\n",
      "sealyham_terrier\n",
      "shetland_sheepdog\n",
      "shih-tzu\n",
      "siberian_husky\n",
      "silky_terrier\n",
      "soft-coated_wheaten_terrier\n",
      "staffordshire_bullterrier\n",
      "standard_poodle\n",
      "standard_schnauzer\n",
      "sussex_spaniel\n",
      "tibetan_mastiff\n",
      "tibetan_terrier\n",
      "toy_poodle\n",
      "toy_terrier\n",
      "vizsla\n",
      "walker_hound\n",
      "weimaraner\n",
      "welsh_springer_spaniel\n",
      "west_highland_white_terrier\n",
      "whippet\n",
      "wire-haired_fox_terrier\n",
      "yorkshire_terrier\n"
     ]
    },
    {
     "name": "stderr",
     "output_type": "stream",
     "text": [
      "C:\\Users\\aditya\\AppData\\Local\\Continuum\\anaconda3\\envs\\tensorflow\\lib\\site-packages\\ipykernel_launcher.py:1: DeprecationWarning: The Windows bytes API has been deprecated, use Unicode filenames instead\n",
      "  \"\"\"Entry point for launching an IPython kernel.\n"
     ]
    }
   ],
   "source": [
    "for file in os.listdir(os.fsencode('./Desktop/new train/')):\n",
    "    print(str(os.fsdecode(file)))"
   ]
  },
  {
   "cell_type": "markdown",
   "metadata": {},
   "source": [
    "### HERE ARE ALL THE CREATED FOLDERS CORRESPONDING TO EACH CLASS"
   ]
  },
  {
   "cell_type": "code",
   "execution_count": null,
   "metadata": {},
   "outputs": [],
   "source": []
  }
 ],
 "metadata": {
  "kernelspec": {
   "display_name": "Python 3",
   "language": "python",
   "name": "python3"
  },
  "language_info": {
   "codemirror_mode": {
    "name": "ipython",
    "version": 3
   },
   "file_extension": ".py",
   "mimetype": "text/x-python",
   "name": "python",
   "nbconvert_exporter": "python",
   "pygments_lexer": "ipython3",
   "version": "3.5.4"
  }
 },
 "nbformat": 4,
 "nbformat_minor": 2
}
